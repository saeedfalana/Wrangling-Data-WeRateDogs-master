{
 "cells": [
  {
   "cell_type": "markdown",
   "metadata": {},
   "source": [
    "*By Saeed Falana*\n",
    "\n",
    "*Ramallah, Palestine*"
   ]
  },
  {
   "cell_type": "markdown",
   "metadata": {},
   "source": [
    "# Introduction"
   ]
  },
  {
   "cell_type": "markdown",
   "metadata": {},
   "source": [
    "You've no doubt heard of [We Rate Dogs](https://twitter.com/dog_rates) by now. Either you follow the account on Twitter, or you've read about the [\"They're good dogs Brent\"](http://www.collegehumor.com/post/7043774/the-theyre-good-dogs-brent-saga-is-complete) story, which took the Internet by storm in 2016.\n",
    "\n",
    "In case you didn't WeRateDogs is a Twitter account that rates people's dogs with a humorous comment about the dog. It was started in 2015 by college student Matt Nelson, and has received international media coverage both for its popularity and for the attention drawn to social media copyright law when it was suspended by Twitter. \n",
    "\n",
    "Over the course of two years, creator and curator Matt Nelson has built an empire out of being the internet’s go-to dog-rater. Nelson bestows rarely high ratings — on a 1-to-10 scale, almost all of his ratings are higher than 10 — on user-submitted pups, along with witty, ironic captions that are cute, hilarious, and relatable all at once.\n",
    "\n",
    "WeRateDogs started from humble beginnings — he claims the idea was hatched at an Applebee’s in 2015 — and became an instant success. *As of December 2017, the Twitter account has nearly 4.56 million followers.*\n",
    "\n",
    "WeRateDogs downloaded their Twitter archive and sent it to Udacity via email exclusively for us. Additional gathering, then assessing and cleaning was required to presente this analyses and visualizations."
   ]
  },
  {
   "cell_type": "markdown",
   "metadata": {},
   "source": [
    "# What make the ratings go high ?"
   ]
  },
  {
   "cell_type": "markdown",
   "metadata": {},
   "source": [
    "![](img/Correlation Map.png)"
   ]
  },
  {
   "cell_type": "markdown",
   "metadata": {},
   "source": [
    "From the Correlation Map above we notice that :\n",
    "- The only strong correlation we see here is between tweet_favorites and tweet_retweet, this is normal (more favorites mean more retweets)\n",
    "- User followers and retweet have a weak negative correlation of -0.1 (this seems the opposite of normal prediction)\n",
    "- More dogs in the picture doesn't mean high rating\n",
    "- Rating don't get affected with any other variable from the ones we ploted\n",
    "\n",
    "Let's see ratings closely"
   ]
  },
  {
   "cell_type": "markdown",
   "metadata": {},
   "source": [
    "![](img/Rating plot over Time.png)"
   ]
  },
  {
   "cell_type": "markdown",
   "metadata": {},
   "source": [
    "        mean: 10.5 | std: 2.2 | 25%: 10 | 50%: 11 | 75%: 12"
   ]
  },
  {
   "cell_type": "markdown",
   "metadata": {},
   "source": [
    "- More than 75% of the data has more than 12/10 as rating\n",
    "- The page start with small rating than they adopt the system of rating numerator more than the denominator\n",
    "\n",
    "*Brent has all the right to get mad (ratings getting higher with no specific reason)*\n",
    "\n",
    "Let's See the most correlated variables, favorites and retweets"
   ]
  },
  {
   "cell_type": "markdown",
   "metadata": {},
   "source": [
    "# Favorites vs Retweets"
   ]
  },
  {
   "cell_type": "markdown",
   "metadata": {},
   "source": [
    "![](img/Retweets and favorites Scatter plot.png)"
   ]
  },
  {
   "cell_type": "markdown",
   "metadata": {},
   "source": [
    "As the correlation map shows if the count of retweet is high for a specific tweet the count of favorites goes high as well. \n",
    "\n",
    "- The most retweeted post was [a doggo realizing that he can stand in pool](https://twitter.com/dog_rates/status/744234799360020481/video/1) with 78,809 retweets\n",
    "- The most favorited post was [a dog marching in the 2017 Women's March](https://twitter.com/dog_rates/status/822872901745569793/photo/1) with 131,903 favorites"
   ]
  },
  {
   "cell_type": "markdown",
   "metadata": {},
   "source": [
    "# Famous dogs Breeds and gender"
   ]
  },
  {
   "cell_type": "markdown",
   "metadata": {},
   "source": [
    "![](img/Histogram of Most The Rated Breeds.png)\n",
    "![](img/Dog Gender Partitions.png)"
   ]
  },
  {
   "cell_type": "markdown",
   "metadata": {},
   "source": [
    "        Average rating by dog gender (female: 11.35 | male: 10.65)"
   ]
  },
  {
   "cell_type": "markdown",
   "metadata": {},
   "source": [
    "- Top two famous breeds are: Golden_retriver and Labrador_retriver according to a neural network we used to classify breeds of dogs.\n",
    "- We have male dogs more than female dogs in our dataset, yet the female rating mean more than the male rating mean"
   ]
  },
  {
   "cell_type": "markdown",
   "metadata": {},
   "source": [
    "# DoggoLingo or dog stages"
   ]
  },
  {
   "cell_type": "markdown",
   "metadata": {},
   "source": [
    "During your dog’s life, from bouncing baby pup to elderly matriarch, your dog will express different needs –and tender a range of rewards– at each stage of her/his life.\n",
    "Those are the four stages present in our dataset:"
   ]
  },
  {
   "cell_type": "markdown",
   "metadata": {},
   "source": [
    "![Dog Stages](img/dog Stages.png)"
   ]
  },
  {
   "cell_type": "markdown",
   "metadata": {},
   "source": [
    "Puppers represent the big number of our pie, but it has the lowest mean rating as shown bellow"
   ]
  },
  {
   "cell_type": "markdown",
   "metadata": {},
   "source": [
    "![](img/dog stages with ratings.png)"
   ]
  },
  {
   "cell_type": "markdown",
   "metadata": {},
   "source": [
    "        doggo: 11.89 | floofer: 11.87 | pupper: 10.64 | puppo: 12.04"
   ]
  },
  {
   "cell_type": "markdown",
   "metadata": {},
   "source": [
    "# Conclusion"
   ]
  },
  {
   "cell_type": "markdown",
   "metadata": {},
   "source": [
    "Dogs are rated on a scale of one to ten, but are invariably given ratings in excess of the maximum, such as \"13/10\". It has acquired over 4.50 million followers since its debut.\n",
    "\n",
    "If you are thinking of adopting a dog, get a floof(er) - far away from being pupper at least still in the stage of puppo yet not a doggo to live more togother - take pictures, When they stick out their tongues, while they're doing a mlem, a blep, a blop. They bork. They boof. Or when they do each other a frighten. Send it to @dog_rates and whether they're 10/10 or 12/10, they're all h\\*ckin' good boys and girls"
   ]
  }
 ],
 "metadata": {
  "anaconda-cloud": {},
  "kernelspec": {
   "display_name": "Python 3",
   "language": "python",
   "name": "python3"
  },
  "language_info": {
   "codemirror_mode": {
    "name": "ipython",
    "version": 3
   },
   "file_extension": ".py",
   "mimetype": "text/x-python",
   "name": "python",
   "nbconvert_exporter": "python",
   "pygments_lexer": "ipython3",
   "version": "3.6.5"
  }
 },
 "nbformat": 4,
 "nbformat_minor": 2
}
